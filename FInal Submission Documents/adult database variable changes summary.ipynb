{
 "cells": [
  {
   "cell_type": "code",
   "execution_count": null,
   "metadata": {},
   "outputs": [],
   "source": [
    "Summary of adult database variable changes, found in 'adult variable and category mapping.csv'\n",
    "\n",
    "Variable Name Changes\n",
    "Age → Customer_Age\n",
    "Education → Education_Level\n",
    "Marital Status → Marital_Status\n",
    "Gender → Gender\n",
    "Income → Income_Category\n",
    "Category Value Changes\n",
    "Marital_Status Mapping:\n",
    "Married-civ-spouse → Married\n",
    "Married-AF-spouse → Married\n",
    "Married-spouse-absent → Married\n",
    "Never-Married → Single\n",
    "Divorced → Divorced\n",
    "Separated → Separated (unchanged)\n",
    "Widowed → Widowed (unchanged)\n",
    "Education_Level Mapping:\n",
    "Masters → Post-Graduate\n",
    "Doctorate → Post-Graduate\n",
    "College → Graduate\n",
    "Some-college → Graduate\n",
    "HS-grad → Graduate\n",
    "Assoc-acdm → High School\n",
    "Assoc-voc → High School\n",
    "7th-8th → Uneducated\n",
    "9th → Uneducated\n",
    "10th → Uneducated\n",
    "11th → Uneducated\n",
    "12th → Uneducated\n",
    "5th-6th → Uneducated\n",
    "1st-4th → Uneducated\n",
    "Preschool → Uneducated\n",
    "\n",
    "Note: Rather than collapse Widowed and Separated into Single and Married respectively, think it may be useful to retain these distinctions as they could have an effect we have yet to uncover. Have also retained the Relationship column as this does not only refer to romantic relationships, could be useful for another level of analysis between people of the same Martial_Status.\n",
    "\n"
   ]
  }
 ],
 "metadata": {
  "language_info": {
   "name": "python"
  }
 },
 "nbformat": 4,
 "nbformat_minor": 2
}
